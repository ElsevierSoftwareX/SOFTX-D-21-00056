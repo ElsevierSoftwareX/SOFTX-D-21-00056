{
 "metadata": {
  "language_info": {
   "codemirror_mode": {
    "name": "ipython",
    "version": 3
   },
   "file_extension": ".py",
   "mimetype": "text/x-python",
   "name": "python",
   "nbconvert_exporter": "python",
   "pygments_lexer": "ipython3",
   "version": "3.8.5-final"
  },
  "orig_nbformat": 2,
  "kernelspec": {
   "name": "python3",
   "display_name": "Python 3",
   "language": "python"
  }
 },
 "nbformat": 4,
 "nbformat_minor": 2,
 "cells": [
  {
   "cell_type": "code",
   "execution_count": null,
   "metadata": {},
   "outputs": [],
   "source": [
    "import numpy as np\n",
    "import scipy.signal as ss\n",
    "import matplotlib.pyplot as plt\n",
    "import time\n",
    "\n",
    "from impulseest import *\n",
    "from random import choice"
   ]
  },
  {
   "cell_type": "code",
   "execution_count": null,
   "metadata": {},
   "outputs": [],
   "source": [
    "#---------------------------------------------------------------\n",
    "#signal---------------------------------------------------------\n",
    "#---------------------------------------------------------------\n",
    "N = 1000\n",
    "Ta = 1*10**(-3)\n",
    "\n",
    "#creating prbs signal\n",
    "def prbs():\n",
    "    while True:\n",
    "        yield choice([False,True])\n",
    "\n",
    "r = np.zeros(N)\n",
    "i = 0\n",
    "for value in prbs():\n",
    "    r[i] = value\n",
    "    i = i+1\n",
    "    if i==N:\n",
    "        break\n",
    "\n",
    "r = 2*r-1\n",
    "\n",
    "r = np.concatenate((np.zeros(10), r, np.zeros(10)))\n",
    "t = np.linspace(0,(N+20-1)*Ta,N+20)\n",
    "\n",
    "plt.figure()\n",
    "plt.plot(t,r)\n",
    "plt.grid()\n",
    "plt.show()"
   ]
  },
  {
   "cell_type": "code",
   "execution_count": null,
   "metadata": {},
   "outputs": [],
   "source": [
    "#---------------------------------------------------------------\n",
    "#plant----------------------------------------------------------\n",
    "#---------------------------------------------------------------\n",
    "kg = 2\n",
    "z1g = 0.8\n",
    "p1g = 0.9 + 0.3j\n",
    "p2g = np.conj(p1g)\n",
    "numG = [1,-z1g]\n",
    "denG = [1,float(-(p1g+p2g)),float(p1g*p2g)]\n",
    "evalg = sum(numG)/sum(denG)\n",
    "numG = np.dot(numG,(1/evalg))\n",
    "G = ss.TransferFunction(numG,denG,dt=Ta)\n",
    "\n",
    "print(\"\\nG =\",G)\n",
    "\n",
    "u = r\n",
    "t,y = ss.dlsim(G,u,t)\n",
    "\n",
    "nu = 0.1*np.random.normal(0, .1, u.shape)\n",
    "ny = 0.2*np.random.normal(0, .1, y.shape)\n",
    "\n",
    "u = u + nu\n",
    "y = y + ny\n",
    "\n",
    "fig,axs = plt.subplots(2,1)\n",
    "axs = axs.reshape(-1)\n",
    "axs[0].plot(t,u,color='C0')\n",
    "axs[1].plot(t,y,color='C1')\n",
    "axs[0].grid()\n",
    "axs[1].grid()\n",
    "plt.show()\n"
   ]
  },
  {
   "cell_type": "code",
   "execution_count": null,
   "metadata": {},
   "outputs": [],
   "source": [
    "start_time = time.time()\n",
    "ir = impulseest(u,y,n=100,RegularizationKernel='DI')\n",
    "end_time = time.time()\n",
    "t,G_h = ss.dimpulse(G, n=100)\n",
    "\n",
    "print(\"Function took {:.2f} seconds to solve minimization with regularization by the Empirical Bayes approach.\" .format(end_time-start_time))\n",
    "\n",
    "plt.plot(np.squeeze(G_h),color='C0')\n",
    "plt.plot(ir,linestyle='--',color='C1')\n",
    "plt.legend(['Real IR','Estimated IR'])\n",
    "plt.grid()\n",
    "plt.show()"
   ]
  },
  {
   "cell_type": "code",
   "execution_count": null,
   "metadata": {},
   "outputs": [],
   "source": [
    "import os\n",
    "os._exit(00)"
   ]
  },
  {
   "cell_type": "code",
   "execution_count": null,
   "metadata": {},
   "outputs": [],
   "source": []
  }
 ]
}